{
  "nbformat": 4,
  "nbformat_minor": 0,
  "metadata": {
    "colab": {
      "provenance": []
    },
    "kernelspec": {
      "name": "python3",
      "display_name": "Python 3"
    },
    "language_info": {
      "name": "python"
    }
  },
  "cells": [
    {
      "cell_type": "code",
      "execution_count": 23,
      "metadata": {
        "colab": {
          "base_uri": "https://localhost:8080/"
        },
        "id": "Ix5EPoYlyy9u",
        "outputId": "bd0951c1-9961-413a-926e-48400ff93bd5"
      },
      "outputs": [
        {
          "output_type": "stream",
          "name": "stdout",
          "text": [
            "Requirement already satisfied: openai==0.28 in /usr/local/lib/python3.10/dist-packages (0.28.0)\n",
            "Requirement already satisfied: requests>=2.20 in /usr/local/lib/python3.10/dist-packages (from openai==0.28) (2.31.0)\n",
            "Requirement already satisfied: tqdm in /usr/local/lib/python3.10/dist-packages (from openai==0.28) (4.66.1)\n",
            "Requirement already satisfied: aiohttp in /usr/local/lib/python3.10/dist-packages (from openai==0.28) (3.9.1)\n",
            "Requirement already satisfied: charset-normalizer<4,>=2 in /usr/local/lib/python3.10/dist-packages (from requests>=2.20->openai==0.28) (3.3.2)\n",
            "Requirement already satisfied: idna<4,>=2.5 in /usr/local/lib/python3.10/dist-packages (from requests>=2.20->openai==0.28) (3.6)\n",
            "Requirement already satisfied: urllib3<3,>=1.21.1 in /usr/local/lib/python3.10/dist-packages (from requests>=2.20->openai==0.28) (2.0.7)\n",
            "Requirement already satisfied: certifi>=2017.4.17 in /usr/local/lib/python3.10/dist-packages (from requests>=2.20->openai==0.28) (2023.11.17)\n",
            "Requirement already satisfied: attrs>=17.3.0 in /usr/local/lib/python3.10/dist-packages (from aiohttp->openai==0.28) (23.1.0)\n",
            "Requirement already satisfied: multidict<7.0,>=4.5 in /usr/local/lib/python3.10/dist-packages (from aiohttp->openai==0.28) (6.0.4)\n",
            "Requirement already satisfied: yarl<2.0,>=1.0 in /usr/local/lib/python3.10/dist-packages (from aiohttp->openai==0.28) (1.9.3)\n",
            "Requirement already satisfied: frozenlist>=1.1.1 in /usr/local/lib/python3.10/dist-packages (from aiohttp->openai==0.28) (1.4.0)\n",
            "Requirement already satisfied: aiosignal>=1.1.2 in /usr/local/lib/python3.10/dist-packages (from aiohttp->openai==0.28) (1.3.1)\n",
            "Requirement already satisfied: async-timeout<5.0,>=4.0 in /usr/local/lib/python3.10/dist-packages (from aiohttp->openai==0.28) (4.0.3)\n"
          ]
        }
      ],
      "source": [
        "!pip install openai==0.28\n",
        "\n",
        "import json\n",
        "import re\n",
        "import time\n",
        "\n",
        "import numpy as np\n",
        "import openai\n",
        "import requests\n",
        "\n",
        "openai.api_key = #Your OpenAI API key, starting with sk-"
      ]
    },
    {
      "cell_type": "code",
      "source": [
        "qa_filepath = \"/content/ABSorBEnT-QA-Pairs.tsv\"\n",
        "\n",
        "#GET QUESTIONS FROM DATASET (and answer for accuracy testing later)\n",
        "import csv\n",
        "\n",
        "questions = []\n",
        "answers = []\n",
        "with open(qa_filepath, \"r\") as f:\n",
        "  for line in f:\n",
        "    tabs = line.split('\\t')\n",
        "    questions.append(tabs[0])\n",
        "    answers.append(tabs[1])"
      ],
      "metadata": {
        "id": "oojfEcdi0KGH"
      },
      "execution_count": 26,
      "outputs": []
    },
    {
      "cell_type": "code",
      "source": [
        "print(questions[1])"
      ],
      "metadata": {
        "colab": {
          "base_uri": "https://localhost:8080/"
        },
        "id": "_TvoD3q2EAR2",
        "outputId": "4e0a2198-f589-4050-eef5-8065a301f809"
      },
      "execution_count": 39,
      "outputs": [
        {
          "output_type": "stream",
          "name": "stdout",
          "text": [
            "Translate this DNA sequence into amino acids: atgtcttattcaaagcatggcatcgtacaagaaatgaagacgaaataccatatggaaggcagtgtcaatggccatgaatttacgatcgaaggtgtaggaactgggtacccttacgaagggaaacagatgtccgaattagtgatcatcaagcctgcgggaaaaccccttccattctcctttgacatactgtcatcagtctttcaatatggaaaccgttgcttcacaaagtacccggcagacatgcctgactatttcaagcaagcattcccagatggaatgtcatatgaaaggtcatttctatttgaggatggagcagttgctacagccagctggaacattcgactcgaaggaaattgcttcatccacaaatccatctttcatggcgtaaactttcccgctgatggacccgtaatgaaaaagaagaccattgactgggataagtccttcgaaaaaatgactgtgtctaaagaggtgctaagaggtgacgtgactatgtttcttatgctcgaaggaggtggttctcacagatgccaatttcactccacttacaaaacagagaagccggtcacactgcccccgaatcatgtcgtagaacatcaaattgtgaggaccgaccttggccaaagtgcaaaaggctttacagtcaagctggaagcacatgccgcggctcatgttaaccctttgaaggttaaataa\n"
          ]
        }
      ]
    },
    {
      "cell_type": "code",
      "source": [
        "class ABSorBEnT:\n",
        "\n",
        "    #FUNCTION: Use GPT 3.5 Turbo to answer the user's question\n",
        "    #RETURNS: The answer as a string (str)\n",
        "    def answer(self, question: str) -> str:\n",
        "\n",
        "        #Call GPT 3.5 Turbo to find the answer to the given question\n",
        "        response = openai.ChatCompletion.create(\n",
        "          model='gpt-3.5-turbo',\n",
        "          messages=[\n",
        "            {\"role\": \"system\", \"content\": \"You are a helpful assistant designed to answer biology, chemistry, and bioinformatics questions.\"},\n",
        "            #{\"role\": \"system\", \"content\": \"Answer each question three times.\"},\n",
        "            {\"role\": \"system\", \"content\": \"Only give the answer to the question, without other words.\"},\n",
        "            {'role':'user', 'content': question}\n",
        "          ]\n",
        "        )\n",
        "\n",
        "        #Extract the response from the model\n",
        "        return response['choices'][0]['message']['content']"
      ],
      "metadata": {
        "id": "ex15jua_6CVN"
      },
      "execution_count": 51,
      "outputs": []
    },
    {
      "cell_type": "code",
      "source": [
        "results = []\n",
        "results.append(\"***ABSorBEnT Results***\") #just to keep indexes consistent with questions[] and answers[] (header index)"
      ],
      "metadata": {
        "id": "FHd1AU0vHoAw"
      },
      "execution_count": 52,
      "outputs": []
    },
    {
      "cell_type": "code",
      "source": [
        "if __name__ == '__main__':\n",
        "    absorbent_model = ABSorBEnT()\n",
        "\n",
        "    for index in range(10):\n",
        "      print(\"\\n \" + str(index+1) + \". *************************************** \\n\")\n",
        "      results.append(absorbent_model.answer(questions[index+1]))\n",
        "      print(results[index+1])\n",
        "      print(answers[index+1])"
      ],
      "metadata": {
        "colab": {
          "base_uri": "https://localhost:8080/"
        },
        "id": "jOGAMIJCF3NE",
        "outputId": "004f4c06-32df-4f1c-9a4d-988315661e91"
      },
      "execution_count": 53,
      "outputs": [
        {
          "output_type": "stream",
          "name": "stdout",
          "text": [
            "\n",
            " 1. *************************************** \n",
            "\n",
            "MYLPPNSHHMEWEGDWLSRAFGTVSVRPDTTGVETDAFLPPDAVATTAISPVTPVLRVPKPEGALTAPPPPRAKSRAGHISQSRPAGAAALFDLPALDAPAAVSIGALRSRPDVAPQQARGASGESVIFLISTGDPGTPASSTGSSGPESSGQSSEEGDDDESDDGGDGGEGPGGQPGAPGASHVDMTQEGSGKFSQPTVEMLDSINAINNGFAVLTERGGMIENVSLEDEQYGSLRYVFESGDVAAALCAAAALQESASFAQAQCEAASRARGVESALGSGVHVDHSNVDSIATORYAKFIGKAGGDDYYSIDNERSDDITIGADFDKKHFENEYRMVQDIRTEGTWVDIPFVSSDVDSGHYLKHNALWTKAEGPWEFNKDLDVLNYTQMPVMRNNKWNIKGPKFVQPLSAFQTPTTPTTTNMKHHAHYNQVNVGPLKSTEDHLVTMEFVHQTKYEKDTNQKLEQEGEFVREAFQEKTGPKHMNEDFSTYDIMVTDSTVQQTGPCTLWSDGSGAGNVQKLTIFNFIDGAFILTDSEQFLLMCYPYQKCGDKMLALQDMQVPCTMKYFKYKCTDKMARVSEQUASWQTEQVTMYEVSNGEVQSKRQADHSGLVPYAPSKGIMKTQFGNQEVHSLFGFENRTDLADVTTAIEQLQDIKTTNDSRHAEHKQKAVLEKQNKSKPAGKqua\n",
            "MSYSKHGIVQEMKTKYHMEGSVNGHEFTIEGVGTGYPYEGKQMSELVIIKPAGKPLPFSFDILSSVFQYGNRCFTKYPADMPDYFKQAFPDGMSYERSFLFEDGAVATASWNIRLEGNCFIHKSIFHGVNFPADGPVMKKKTIDWDKSFEKMTVSKEVLRGDVTMFLMLEGGGSHRCQFHSTYKTEKPVTLPPNHVVEHQIVRTDLGQSAKGFTVKLEAHAAAHVNPLKVK-\n",
            "\n",
            " 2. *************************************** \n",
            "\n",
            "Met-Gly-His-Leu-Pro-Arg-Ile-Cys-Val-Arg-Asn-Ile-Lys-Leu-Trp-Gly-Asp-Arg-Thr-Leu-Ala-Lys-Cys-Lys-Arg-Phe-Tyr-Ser-Lys-Leu-Glu-Ala-His-Ala-Ala-Leu-Cys-Glu-Pro-Leu\n",
            "MVTLPPNHVVEHQIVRTDLGQSAKGFTVKLEAHAAAHVNPLKVK-\n",
            "\n",
            " 3. *************************************** \n",
            "\n",
            "Met Ser Tyr Ser Lys Ala Trp His Arg Thr Arg Lys Glu Met Lys Thr Lys\n",
            "MSYSKHGIVQEMKTK\n",
            "\n",
            " 4. *************************************** \n",
            "\n",
            "METPROGLYILEUGLYCYSGLUARGLEULOYGLYSERPHELEUSERGLYGLYLYSVALCYSASPPROGLUTHRALACLEUELEUTHRCYSGLEUCYSTRPHEALACLUGLEVALLEUTHPROGLUVALALAVALALASERGLYPROLARGVALLYSPROSERLEUSERVALTHRTHRTHRTHRTHRTHRTHRTHRTHRTHRTHRTHRTHRASNGCCARGTHRTHRTHRGNLYARGASPILESERVALPHEPHEILECYSGLYVALHISLUCGLYALAVALCYSALAARGLEUTRPHEVALVALSERVALTYRHISGLNVALALAGTYPARGGLULEUASNGCPHELEULYGPLYGLYSERVALARGLEUSERGLUARGTHRLEUMPHEILESERARGASNILEPHEVALARGLEUSERVALGLYNILEUSERASNTHRGLUGLYHISLEUASPYRILELEUMETTHRILELYGLUPHELEUSRGLEUT+\n",
            "\n",
            "MPADWVNPIMWRMWPEWDTSHSLNGTWCLVVLHGMAACIQDGWAEGVHPGIHHSGQVQTDQPFYQDAIWSMTIMTNIPEQLSNCQSYFVRPCCTRNQPMYKYFIHRSGFPVPGFQLWPCQLEGFLVRMMLDDHVDKKCHWEQQCTQPSNKKSAYYIFTIIEMTMW-\n",
            "\n",
            " 5. *************************************** \n",
            "\n",
            "SQA*KRSWL*L*NQRP*MVC*VV\n",
            "SNKKSAYYIFTIIEMTMW-\n",
            "\n",
            " 6. *************************************** \n",
            "\n",
            "AUGUCUUAUUCAAAGCAUGGCAUCGUACAAGAAAUGAAGACGAAAUACCACAUUGGAAGGCAUGUCAAUGGCCAUGAAUUUACGAUCGAAGGUGUAGGAACUGGGUACCCUUACGAAGGGAAACAGAUGUCCGAAUUAGUGAUCAUCAAGCCUGC GGGAAAACCCCUUCCAUUCUCCUUUGACA UACUGUCAUCAGUCUUUCAAUAUGGAAACCGUUGC UU CACAAAGUACCCGGCAGAC AUG CCUGACUAUUUCAAGCAAGCAUUCCCAGAUGGAAUGUCAUAUGAAAGG UCAUU UCUAUUUGAGGAUGGAGCAGUUGC UACAGCCAGCUGGAACAUUCGACUCGAAGGAAAUUGCUUCAUCCACAAAUCCAU C UU UCAUGGCGUAAACUUUCCCGCUGAUGGACCCGUAAUGAAAAAGAAGACCAUUGACUG GG AUAAGUCCUUCGAAAAAAUGACUGUGUCUAAAGAGGUGCUAAGAGGUGACGUGACUAUGUUUCUUAUGCGCGAAGGAGGUGGUUCUCACAGAUGCCA AUUUCACUCCA CUUACAAAACAGAGAAGCCGGUCACACUGCCCCGAAUCAUGUCGUAGAACAUCAA AUG UG GAGGACCGACCUUGGCCAAAGUGCAAAAGGCUUUACAGUCAAGCUGGAAGCAC AUG CGCGC GGCUCAUGUUAACCCUUUGAAGGUUAAAUAA\n",
            "augucuuauucaaagcauggcaucguacaagaaaugaagacgaaauaccauauggaaggcagugucaauggccaugaauuuacgaucgaagguguaggaacuggguacccuuacgaagggaaacagauguccgaauuagugaucaucaagccugcgggaaaaccccuuccauucuccuuugacauacugucaucagucuuucaauauggaaaccguugcuucacaaaguacccggcagacaugccugacuauuucaagcaagcauucccagauggaaugucauaugaaaggucauuucuauuugaggauggagcaguugcuacagccagcuggaacauucgacucgaaggaaauugcuucauccacaaauccaucuuucauggcguaaacuuucccgcugauggacccguaaugaaaaagaagaccauugacugggauaaguccuucgaaaaaaugacugugucuaaagaggugcuaagaggugacgugacuauguuucuuaugcucgaaggaggugguucucacagaugccaauuucacuccacuuacaaaacagagaagccggucacacugcccccgaaucaugucguagaacaucaaauugugaggaccgaccuuggccaaagugcaaaaggcuuuacagucaagcuggaagcacaugccgcggcucauguuaacccuuugaagguuaaauaa\n",
            "\n",
            " 7. *************************************** \n",
            "\n",
            "auggucacacugccccgaaucaugucguaguaacaucaaauugugaggaccgaccuuggccaaagugcaaaaggcuuuacaguc...\n",
            "auggucacacugcccccgaaucaugucguagaacaucaaauugugaggaccgaccuuggccaaagugcaaaaggcuuuacagucaagcuggaagcacaugccgcggcucauguuaacccuuugaagguuaaauaa\n",
            "\n",
            " 8. *************************************** \n",
            "\n",
            "AUGUCUUAUUCAAAGCAUGGCAUCGUACAAGAAAUGAAGACGAAA\n",
            "augucuuauucaaagcauggcaucguacaagaaaugaagacgaaa\n",
            "\n",
            " 9. *************************************** \n",
            "\n",
            "augccggcggauugggugaacccgauuauugguggcugauguggccggaaugggauaccagccauagccugaacggcaccuggugccugguggugcugcauggcauggcggcugcauucaggauggcugggcggaaaggcgcuguauccgggcauucaucauagcggccaggugcagaccgaucagccguuuuacuaggaugauggcgaauuggagcaugaccauuacgaccaacauuccggaacagcugagcaacugccagagcuauuuugugcccgcugcacccgcaaccagccgauguauaaauauuuuauucaucgcagcggcuuuccggugccgggcuuucagcuguggccgugccagcuggaaggcuuucuggugcgaugaugcuggaugaucauguggauaaaaaaaugccauugggaacagcagu\n",
            "\n",
            "augccggcggauugggugaacccgauuauguggcgcauguggccggaaugggauaccagccauagccugaacggcaccuggugccugguggugcugcauggcauggcggcgugcauucaggauggcugggcggaaggcgugcauccgggcauucaucauagcggccaggugcagaccgaucagccguuuuaucaggaugcgauuuggagcaugaccauuaugaccaacauuccggaacagcugagcaacugccagagcuauuuugugcgcccgugcugcacccgcaaccagccgauguauaaauauuuuauucaucgcagcggcuuuccggugccgggcuuucagcuguggccgugccagcuggaaggcuuucuggugcgcaugaugcuggaugaucauguggauaaaaaaugccauugggaacagcagugcacccagccgagcaacaaaaaaagcgcguauuauauuuuuaccauuauugaaaugaccaugugguaa\n",
            "\n",
            " 10. *************************************** \n",
            "\n",
            "U C G U U G U U U U U U U C G C G C A U A U A U U U U A C C A U A A C U U U A C U G G U A A\n",
            "agcaacaaaaaaagcgcguauuauauuuuuaccauuauugaaaugaccaugugguaa\n"
          ]
        }
      ]
    },
    {
      "cell_type": "code",
      "source": [
        "#this standardization method is not comprehensive, but good enough for the task\n",
        "#anything missed I did manually\n",
        "def standardize(ans):\n",
        "  ans = ans.lower()\n",
        "  ans = ans.replace(\"ala\", \"a\")\n",
        "  ans = ans.replace(\"arg\", \"r\")\n",
        "  ans = ans.replace(\"asn\", \"n\")\n",
        "  ans = ans.replace(\"asp\", \"d\")\n",
        "  ans = ans.replace(\"cys\", \"c\")\n",
        "  ans = ans.replace(\"glu\", \"e\")\n",
        "  ans = ans.replace(\"gln\", \"q\")\n",
        "  ans = ans.replace(\"gly\", \"g\")\n",
        "  ans = ans.replace(\"his\", \"h\")\n",
        "  ans = ans.replace(\"ile\", \"i\")\n",
        "  ans = ans.replace(\"leu\", \"l\")\n",
        "  ans = ans.replace(\"lys\", \"k\")\n",
        "  ans = ans.replace(\"met\", \"m\")\n",
        "  ans = ans.replace(\"phe\", \"f\")\n",
        "  ans = ans.replace(\"pro\", \"p\")\n",
        "  ans = ans.replace(\"ser\", \"s\")\n",
        "  ans = ans.replace(\"thr\", \"t\")\n",
        "  ans = ans.replace(\"trp\", \"w\")\n",
        "  ans = ans.replace(\"tyr\", \"y\")\n",
        "  ans = ans.replace(\"val\", \"v\")\n",
        "  ans = ans.replace(\" \", \"\").replace(\"\\n\", \"\").replace(\"-\", \"\")\n",
        "  return ans"
      ],
      "metadata": {
        "id": "czcr7hYxJe0q"
      },
      "execution_count": 64,
      "outputs": []
    },
    {
      "cell_type": "code",
      "source": [
        "for index in range(10):\n",
        "  if index == 0:\n",
        "    continue\n",
        "  standardized = standardize(results[index])\n",
        "  print(standardized)\n",
        "  if standardized == answers[index].lower():\n",
        "    print(\"**CORRECT**\")"
      ],
      "metadata": {
        "colab": {
          "base_uri": "https://localhost:8080/"
        },
        "id": "YRds_YA9IS-S",
        "outputId": "eee96670-03d3-41e6-e02a-9c52ddb6148a"
      },
      "execution_count": 66,
      "outputs": [
        {
          "output_type": "stream",
          "name": "stdout",
          "text": [
            "mylppnshhmewegdwlsrafgtvsvrpdttgvetdaflppdavattaispvtpvlrvpkpegaltappppraksraghqsrpagaaalfdlpaldapaavsigalrsrpdvapqqrasgesviflistgdpgtpasstgssgpessgqsseegdddesddggdggegpggqpgapgashvdmtqegsgkfsqptvemldsinainngfavlterggmienvsledeqygslryvfesgdvaaalcaaaalqesasfaqaqceaasrrvesalgsgvhvdhsnvdsiatoryakfigkaggddyysidnersdditigadfdkkhfeneyrmvqdirtegtwvdipfvssdvdsghylkhnalwtkaegpwefnkdldvlnytqmpvmrnnkwnikgpkfvqplsafqtpttptttnmkhhahynqvnvgplkstedhlvtmefvhqtkyekdtnqkleqegefvreafqektgpkhmnedfstydimvtdstvqqtgpctlwsdgsgagnvqkltifnfidgafiltdseqfllmcypyqkcgdkmlalqdmqvpctmkyfkykctdkmarvsequaswqteqvtmyevsngevqskrqadhsglvpyapskgimktqfgnqevhslfgfenrtdladvttaieqlqdikttndsrhaehkqkavlekqnkskpagkqua\n",
            "mghlpricvrniklwgdrtlakckrfyskleahaalcepl\n",
            "msyskawhrtrkemktk\n",
            "mpgiugcerlloygsflsggkvcdpetacleltcglctrfacluglevlthpevavasgplrvkpslsvtttttttttttttngccrtttgnlyrdisvfficgvhlucgavcarltrfvvsvyhqvagtyprelngcfllygplygsvrlsertlmfisrnifvrlsvgniusnteghldyrilmtilyeflsrglt+\n",
            "sqa*krswl*l*nqrp*mvc*vv\n",
            "augucuuauucaaagcauggcaucguacaagaaaugaagacgaaauaccacauuggaaggcaugucaauggccaugaauuuacgaucgaagguguaggaacuggguacccuuacgaagggaaacagauguccgaauuagugaucaucaagccugcgggaaaaccccuuccauucuccuuugacauacugucaucagucuuucaauauggaaaccguugcuucacaaaguacccggcagacaugccugacuauuucaagcaagcauucccagauggaaugucauaugaaaggucauuucuauuugaggauggagcaguugcuacagccagcuggaacauucgacucgaaggaaauugcuucauccacaaauccaucuuucauggcguaaacuuucccgcugauggacccguaaugaaaaagaagaccauugacugggauaaguccuucgaaaaaaugacugugucuaaagaggugcuaagaggugacgugacuauguuucuuaugcgcgaaggaggugguucucacagaugccaauuucacuccacuuacaaaacagagaagccggucacacugccccgaaucaugucguagaacaucaaauguggaggaccgaccuuggccaaagugcaaaaggcuuuacagucaagcuggaagcacaugcgcgcggcucauguuaacccuuugaagguuaaauaa\n",
            "auggucacacugccccgaaucaugucguaguaacaucaaauugugaggaccgaccuuggccaaagugcaaaaggcuuuacaguc...\n",
            "augucuuauucaaagcauggcaucguacaagaaaugaagacgaaa\n",
            "**CORRECT**\n",
            "augccggcggauugggugaacccgauuauugguggcugauguggccggaaugggauaccagccauagccugaacggcaccuggugccugguggugcugcauggcauggcggcugcauucaggauggcugggcggaaaggcgcuguauccgggcauucaucauagcggccaggugcagaccgaucagccguuuuacuaggaugauggcgaauuggagcaugaccauuacgaccaacauuccggaacagcugagcaacugccagagcuauuuugugcccgcugcacccgcaaccagccgauguauaaauauuuuauucaucgcagcggcuuuccggugccgggcuuucagcuguggccgugccagcuggaaggcuuucuggugcgaugaugcuggaugaucauguggauaaaaaaaugccauugggaacagcagu\n"
          ]
        }
      ]
    }
  ]
}